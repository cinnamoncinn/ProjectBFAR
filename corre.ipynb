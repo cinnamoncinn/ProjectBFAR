{
 "cells": [
  {
   "cell_type": "code",
   "execution_count": null,
   "metadata": {},
   "outputs": [
    {
     "name": "stderr",
     "output_type": "stream",
     "text": [
      "C:\\Users\\Admin\\AppData\\Local\\Packages\\PythonSoftwareFoundation.Python.3.13_qbz5n2kfra8p0\\LocalCache\\local-packages\\Python313\\site-packages\\mlxtend\\frequent_patterns\\fpcommon.py:161: DeprecationWarning: DataFrames with non-bool types result in worse computationalperformance and their support might be discontinued in the future.Please use a DataFrame with bool type\n",
      "  warnings.warn(\n"
     ]
    },
    {
     "ename": "ValueError",
     "evalue": "NaN values are not permitted in the DataFrame when null_values=False.",
     "output_type": "error",
     "traceback": [
      "\u001b[31m---------------------------------------------------------------------------\u001b[39m",
      "\u001b[31mValueError\u001b[39m                                Traceback (most recent call last)",
      "\u001b[36mCell\u001b[39m\u001b[36m \u001b[39m\u001b[32mIn[46]\u001b[39m\u001b[32m, line 11\u001b[39m\n\u001b[32m      8\u001b[39m df_encoded = pd.get_dummies(df, dtype=\u001b[38;5;28mint\u001b[39m)\n\u001b[32m     10\u001b[39m \u001b[38;5;66;03m# Run FP-Growth with a minimum support threshold (adjust as needed)\u001b[39;00m\n\u001b[32m---> \u001b[39m\u001b[32m11\u001b[39m frequent_itemsets = \u001b[43mfpgrowth\u001b[49m\u001b[43m(\u001b[49m\u001b[43mdf_encoded\u001b[49m\u001b[43m,\u001b[49m\u001b[43m \u001b[49m\u001b[43mmin_support\u001b[49m\u001b[43m=\u001b[49m\u001b[32;43m0.05\u001b[39;49m\u001b[43m,\u001b[49m\u001b[43m \u001b[49m\u001b[43muse_colnames\u001b[49m\u001b[43m=\u001b[49m\u001b[38;5;28;43;01mTrue\u001b[39;49;00m\u001b[43m)\u001b[49m\n\u001b[32m     13\u001b[39m \u001b[38;5;66;03m# Extract Association Rules\u001b[39;00m\n\u001b[32m     14\u001b[39m rules = association_rules(frequent_itemsets, metric=\u001b[33m\"\u001b[39m\u001b[33mlift\u001b[39m\u001b[33m\"\u001b[39m, min_threshold=\u001b[32m1.0\u001b[39m)\n",
      "\u001b[36mFile \u001b[39m\u001b[32m~\\AppData\\Local\\Packages\\PythonSoftwareFoundation.Python.3.13_qbz5n2kfra8p0\\LocalCache\\local-packages\\Python313\\site-packages\\mlxtend\\frequent_patterns\\fpgrowth.py:78\u001b[39m, in \u001b[36mfpgrowth\u001b[39m\u001b[34m(df, min_support, null_values, use_colnames, max_len, verbose)\u001b[39m\n\u001b[32m     12\u001b[39m \u001b[38;5;28;01mdef\u001b[39;00m\u001b[38;5;250m \u001b[39m\u001b[34mfpgrowth\u001b[39m(\n\u001b[32m     13\u001b[39m     df, min_support=\u001b[32m0.5\u001b[39m, null_values=\u001b[38;5;28;01mFalse\u001b[39;00m, use_colnames=\u001b[38;5;28;01mFalse\u001b[39;00m, max_len=\u001b[38;5;28;01mNone\u001b[39;00m, verbose=\u001b[32m0\u001b[39m\n\u001b[32m     14\u001b[39m ):\n\u001b[32m     15\u001b[39m \u001b[38;5;250m    \u001b[39m\u001b[33;03m\"\"\"Get frequent itemsets from a one-hot DataFrame\u001b[39;00m\n\u001b[32m     16\u001b[39m \n\u001b[32m     17\u001b[39m \u001b[33;03m    Parameters\u001b[39;00m\n\u001b[32m   (...)\u001b[39m\u001b[32m     76\u001b[39m \n\u001b[32m     77\u001b[39m \u001b[33;03m    \"\"\"\u001b[39;00m\n\u001b[32m---> \u001b[39m\u001b[32m78\u001b[39m     \u001b[43mfpc\u001b[49m\u001b[43m.\u001b[49m\u001b[43mvalid_input_check\u001b[49m\u001b[43m(\u001b[49m\u001b[43mdf\u001b[49m\u001b[43m,\u001b[49m\u001b[43m \u001b[49m\u001b[43mnull_values\u001b[49m\u001b[43m)\u001b[49m\n\u001b[32m     80\u001b[39m     \u001b[38;5;28;01mif\u001b[39;00m min_support <= \u001b[32m0.0\u001b[39m:\n\u001b[32m     81\u001b[39m         \u001b[38;5;28;01mraise\u001b[39;00m \u001b[38;5;167;01mValueError\u001b[39;00m(\n\u001b[32m     82\u001b[39m             \u001b[33m\"\u001b[39m\u001b[33m`min_support` must be a positive \u001b[39m\u001b[33m\"\u001b[39m\n\u001b[32m     83\u001b[39m             \u001b[33m\"\u001b[39m\u001b[33mnumber within the interval `(0, 1]`. \u001b[39m\u001b[33m\"\u001b[39m\n\u001b[32m     84\u001b[39m             \u001b[33m\"\u001b[39m\u001b[33mGot \u001b[39m\u001b[38;5;132;01m%s\u001b[39;00m\u001b[33m.\u001b[39m\u001b[33m\"\u001b[39m % min_support\n\u001b[32m     85\u001b[39m         )\n",
      "\u001b[36mFile \u001b[39m\u001b[32m~\\AppData\\Local\\Packages\\PythonSoftwareFoundation.Python.3.13_qbz5n2kfra8p0\\LocalCache\\local-packages\\Python313\\site-packages\\mlxtend\\frequent_patterns\\fpcommon.py:177\u001b[39m, in \u001b[36mvalid_input_check\u001b[39m\u001b[34m(df, null_values)\u001b[39m\n\u001b[32m    175\u001b[39m \u001b[38;5;66;03m# If null_values is False but NaNs are found, raise an error\u001b[39;00m\n\u001b[32m    176\u001b[39m \u001b[38;5;28;01mif\u001b[39;00m \u001b[38;5;129;01mnot\u001b[39;00m null_values \u001b[38;5;129;01mand\u001b[39;00m has_nans:\n\u001b[32m--> \u001b[39m\u001b[32m177\u001b[39m     \u001b[38;5;28;01mraise\u001b[39;00m \u001b[38;5;167;01mValueError\u001b[39;00m(\n\u001b[32m    178\u001b[39m         \u001b[33m\"\u001b[39m\u001b[33mNaN values are not permitted in the DataFrame when null_values=False.\u001b[39m\u001b[33m\"\u001b[39m\n\u001b[32m    179\u001b[39m     )\n\u001b[32m    181\u001b[39m \u001b[38;5;66;03m# Pandas is much slower than numpy, so use np.where on Numpy arrays\u001b[39;00m\n\u001b[32m    182\u001b[39m \u001b[38;5;28;01mif\u001b[39;00m \u001b[38;5;28mhasattr\u001b[39m(df, \u001b[33m\"\u001b[39m\u001b[33msparse\u001b[39m\u001b[33m\"\u001b[39m):\n",
      "\u001b[31mValueError\u001b[39m: NaN values are not permitted in the DataFrame when null_values=False."
     ]
    }
   ],
   "source": [
    "import pandas as pd\n",
    "from mlxtend.frequent_patterns import fpgrowth, association_rules\n",
    "\n",
    "# Load dataset\n",
    "df = pd.read_csv(\"transactions.csv\")\n",
    "\n",
    "# Fill NaN values with 0\n",
    "df.fillna(0, inplace=True)\n",
    "\n",
    "# Convert categorical columns to one-hot encoding (if not already in binary format)\n",
    "df_encoded = pd.get_dummies(df, dtype=int)\n",
    "\n",
    "# Run FP-Growth with a minimum support threshold (adjust as needed)\n",
    "frequent_itemsets = fpgrowth(df_encoded, min_support=0.05, use_colnames=True)\n",
    "\n",
    "# Extract Association Rules\n",
    "rules = association_rules(frequent_itemsets, metric=\"lift\", min_threshold=1.0)\n",
    "\n",
    "# Display results\n",
    "print(frequent_itemsets.head())\n",
    "print(rules.head())\n"
   ]
  }
 ],
 "metadata": {
  "kernelspec": {
   "display_name": "Python 3",
   "language": "python",
   "name": "python3"
  },
  "language_info": {
   "codemirror_mode": {
    "name": "ipython",
    "version": 3
   },
   "file_extension": ".py",
   "mimetype": "text/x-python",
   "name": "python",
   "nbconvert_exporter": "python",
   "pygments_lexer": "ipython3",
   "version": "3.13.2"
  }
 },
 "nbformat": 4,
 "nbformat_minor": 2
}
