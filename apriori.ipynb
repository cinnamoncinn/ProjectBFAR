{
 "cells": [
  {
   "cell_type": "code",
   "execution_count": 4,
   "metadata": {},
   "outputs": [
    {
     "ename": "MemoryError",
     "evalue": "Unable to allocate 5.74 GiB for an array with shape (1116022, 4, 1380) and data type bool",
     "output_type": "error",
     "traceback": [
      "\u001b[31m---------------------------------------------------------------------------\u001b[39m",
      "\u001b[31mMemoryError\u001b[39m                               Traceback (most recent call last)",
      "\u001b[36mCell\u001b[39m\u001b[36m \u001b[39m\u001b[32mIn[4]\u001b[39m\u001b[32m, line 43\u001b[39m\n\u001b[32m     40\u001b[39m df_encoded = pd.get_dummies(df)\n\u001b[32m     42\u001b[39m \u001b[38;5;66;03m# Apply Apriori algorithm\u001b[39;00m\n\u001b[32m---> \u001b[39m\u001b[32m43\u001b[39m frequent_itemsets = \u001b[43mapriori\u001b[49m\u001b[43m(\u001b[49m\u001b[43mdf_encoded\u001b[49m\u001b[43m,\u001b[49m\u001b[43m \u001b[49m\u001b[43mmin_support\u001b[49m\u001b[43m=\u001b[49m\u001b[32;43m0.5\u001b[39;49m\u001b[43m,\u001b[49m\u001b[43m \u001b[49m\u001b[43muse_colnames\u001b[49m\u001b[43m=\u001b[49m\u001b[38;5;28;43;01mTrue\u001b[39;49;00m\u001b[43m)\u001b[49m\n\u001b[32m     45\u001b[39m \u001b[38;5;66;03m# Generate association rules\u001b[39;00m\n\u001b[32m     46\u001b[39m rules = association_rules(frequent_itemsets, metric=\u001b[33m\"\u001b[39m\u001b[33mconfidence\u001b[39m\u001b[33m\"\u001b[39m, min_threshold=\u001b[32m0.6\u001b[39m)\n",
      "\u001b[36mFile \u001b[39m\u001b[32m~\\AppData\\Local\\Packages\\PythonSoftwareFoundation.Python.3.13_qbz5n2kfra8p0\\LocalCache\\local-packages\\Python313\\site-packages\\mlxtend\\frequent_patterns\\apriori.py:309\u001b[39m, in \u001b[36mapriori\u001b[39m\u001b[34m(df, min_support, use_colnames, max_len, verbose, low_memory)\u001b[39m\n\u001b[32m    307\u001b[39m         _bools = _bools & (X[:, combin[:, n]] == all_ones)\n\u001b[32m    308\u001b[39m \u001b[38;5;28;01melse\u001b[39;00m:\n\u001b[32m--> \u001b[39m\u001b[32m309\u001b[39m     _bools = np.all(\u001b[43mX\u001b[49m\u001b[43m[\u001b[49m\u001b[43m:\u001b[49m\u001b[43m,\u001b[49m\u001b[43m \u001b[49m\u001b[43mcombin\u001b[49m\u001b[43m]\u001b[49m, axis=\u001b[32m2\u001b[39m)\n\u001b[32m    311\u001b[39m support = _support(np.array(_bools), rows_count, is_sparse)\n\u001b[32m    312\u001b[39m _mask = (support >= min_support).reshape(-\u001b[32m1\u001b[39m)\n",
      "\u001b[31mMemoryError\u001b[39m: Unable to allocate 5.74 GiB for an array with shape (1116022, 4, 1380) and data type bool"
     ]
    }
   ],
   "source": [
    "import pandas as pd\n",
    "from mlxtend.frequent_patterns import apriori, association_rules\n",
    "\n",
    "# Load dataset\n",
    "file_path = \"etoba.csv\"  # Change to your actual file path\n",
    "df = pd.read_csv(file_path, encoding='latin1')\n",
    "\n",
    "# Drop irrelevant columns if necessary (e.g., IDs or unique identifiers)\n",
    "columns_to_drop = ['I6.1:GN', 'I6.2:FT', 'I6.3:PPN',\t'I6.4:H&L',\t'I6.5:OTHERS',\t'I7.1:LIFE_J',\t'I7.2:LIFE_B',\t'I7.3:F_LIGHT',\t'I7.4:CP',\t'I7.5:OTHERS',\t'I8.1:BAD_W',\t'I8.2:FISH_R',\t'I8.3:BOAT_P',\t'I8.4:FISH_COMP',\t'I8.5:OTHERS',\t'Y_BOAT-RE',\t'NY_W/BOAT',\t'BOAT_COND',\t'J1:BOAT_AGREE',\t'J2:BOAT_TYPE',\t'J3:BOAT_DESIGN',\t'J4:BOAT_COND',\t'J4: REASON-NO',\t'J5.1',\t'J5.2',\t'J5.3',\t'J5.4',\t'J5.5',\t'J5.6',\t'J5.7',\t'J6.1',\t'J6.2',\t'J6.3',\t'J6.4',\t'J6.5',\t'J6.6',\t'J7.1',\t'J7.2',\t'J7.3',\t'J7.4',\t'J7.5'\n",
    "]  # Add column names to drop if needed\n",
    "df = df.drop(columns=columns_to_drop, errors='ignore')\n",
    "\n",
    "# Convert numerical data into categorical bins\n",
    "def categorize_age(age):\n",
    "    if age < 30:\n",
    "        return 'Young'\n",
    "    elif 30 <= age <= 50:\n",
    "        return 'Middle-aged'\n",
    "    else:\n",
    "        return 'Senior'\n",
    "\n",
    "def categorize_income(income):\n",
    "    if income == '10K':\n",
    "        return 'Low Income'\n",
    "    elif income == '10K to 20K':\n",
    "        return 'Middle Income'\n",
    "    else:\n",
    "        return 'High Income'\n",
    "\n",
    "if 'B3:AGE' in df.columns:\n",
    "    df['B3:AGE'] = df['B3:AGE'].apply(categorize_age)\n",
    "\n",
    "if 'C2:INCOM' in df.columns:\n",
    "    df['C2:INCOM'] = df['C2:INCOM'].apply(categorize_income)\n",
    "\n",
    "# Convert categorical variables into string format\n",
    "df = df.astype(str)\n",
    "\n",
    "# One-hot encode categorical variables\n",
    "df_encoded = pd.get_dummies(df)\n",
    "\n",
    "# Apply Apriori algorithm\n",
    "frequent_itemsets = apriori(df_encoded, min_support=0.5, use_colnames=True)\n",
    "\n",
    "# Generate association rules\n",
    "rules = association_rules(frequent_itemsets, metric=\"confidence\", min_threshold=0.6)\n",
    "\n",
    "\n"
   ]
  }
 ],
 "metadata": {
  "kernelspec": {
   "display_name": "Python 3",
   "language": "python",
   "name": "python3"
  },
  "language_info": {
   "codemirror_mode": {
    "name": "ipython",
    "version": 3
   },
   "file_extension": ".py",
   "mimetype": "text/x-python",
   "name": "python",
   "nbconvert_exporter": "python",
   "pygments_lexer": "ipython3",
   "version": "3.13.2"
  }
 },
 "nbformat": 4,
 "nbformat_minor": 2
}
